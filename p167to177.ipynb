{
 "cells": [
  {
   "cell_type": "code",
   "execution_count": null,
   "metadata": {},
   "outputs": [],
   "source": [
    "import datetime\n",
    "\n",
    "now = datetime.datetime.now()\n",
    "\n",
    "#오전 구분\n",
    "if now.hour < 12: \n",
    "    print(\"현재 시각은 {}시로 오전입니다\".format(now.hour))\n",
    "    \n",
    "#오후 구분\n",
    "if now.hour >= 12: \n",
    "    print(\"현재 시각은 {}시로 오후입니다\".format(now.hour))"
   ]
  },
  {
   "cell_type": "code",
   "execution_count": null,
   "metadata": {},
   "outputs": [],
   "source": [
    "#P 167~168\n",
    "#봄 구분\n",
    "\n",
    "if 3 <= now.month <= 5: \n",
    "    print(\"이번달은 {}로 봄입니다\".format(now.month))\n",
    "    \n",
    "#여름 구분\n",
    "\n",
    "if 6 <= now.month <= 8: \n",
    "    print(\"이번달은 {}로 여름입니다\".format(now.month))\n",
    "    \n",
    "#가을 구분\n",
    "\n",
    "if 9 <= now.month <= 11: \n",
    "    print(\"이번달은 {}로 가을입니다\".format(now.month))\n",
    "    \n",
    "#겨울울 구분\n",
    "\n",
    "if now.month == 12 or 1 <= now.month <=2: \n",
    "    print(\"이번달은 {}로 겨울울입니다\".format(now.month))"
   ]
  },
  {
   "cell_type": "code",
   "execution_count": null,
   "metadata": {},
   "outputs": [],
   "source": [
    "#P169\n",
    "\n",
    "number = input(\"정수 입력 > \")\n",
    "\n",
    "last_character = number[-1]\n",
    "\n",
    "last_number = int(last_character)\n",
    "\n",
    "#짝수확인\n",
    "if last_number == 0 \\\n",
    "    or last_number == 2 \\\n",
    "    or last_number == 4 \\\n",
    "    or last_number == 6 \\\n",
    "    or last_number == 8 :\n",
    "        print(\"짝수입니다\")\n",
    "\n",
    "#홀수확인\n",
    "if last_number == 1 \\\n",
    "    or last_number == 3 \\\n",
    "    or last_number == 5 \\\n",
    "    or last_number == 7 \\\n",
    "    or last_number == 9 :\n",
    "        print(\"홀수입니다\")"
   ]
  },
  {
   "cell_type": "code",
   "execution_count": null,
   "metadata": {},
   "outputs": [],
   "source": [
    "#P170\n",
    "\n",
    "number1 = input(\"정수 입력 > \")\n",
    "\n",
    "last_character1 = number1[-1]\n",
    "\n",
    "if last_character1 in \"02468\": \n",
    "    print(\"짝수\")\n",
    "    \n",
    "if last_character1 in \"13579\":\n",
    "    print(\"홀수\")"
   ]
  },
  {
   "cell_type": "code",
   "execution_count": null,
   "metadata": {},
   "outputs": [],
   "source": [
    "#P171\n",
    "\n",
    "number2 = input(\"정수 입력 > \")\n",
    "number2 = int(number2)\n",
    "\n",
    "#짝수 조건\n",
    "if number2 % 2 ==0:\n",
    "    print(\"짝수\")\n",
    "\n",
    "#홀수 조건\n",
    "if number2 % 2 ==1:\n",
    "    print(\"홀수\")"
   ]
  },
  {
   "cell_type": "code",
   "execution_count": null,
   "metadata": {},
   "outputs": [],
   "source": [
    "#177\n",
    "\n",
    "number3 = input(\"정수 입력 > \")\n",
    "number3 = int(number3)\n",
    "\n",
    "if number3 % 2 == 0:\n",
    "    print(\"짝수\")\n",
    "    \n",
    "else:\n",
    "    print(\"홀수\") "
   ]
  },
  {
   "cell_type": "code",
   "execution_count": null,
   "metadata": {},
   "outputs": [],
   "source": [
    "#178\n",
    "\n",
    "import datetime\n",
    "\n",
    "now = datetime.datetime.now()\n",
    "month = now.month\n",
    "\n",
    "if 3 <= month <= 5:\n",
    "    print(\"봄\")\n",
    "\n",
    "elif 6 <= month <= 8:\n",
    "    print(\"여름\")\n",
    "    \n",
    "elif 9 <= month <= 11:\n",
    "    print(\"가을\")\n",
    "    \n",
    "else:\n",
    "    print(\"겨울\")"
   ]
  },
  {
   "cell_type": "code",
   "execution_count": null,
   "metadata": {},
   "outputs": [],
   "source": [
    "score = int(input(\"점수를 입력하세요: \"))\n",
    "\n",
    "if score >= 90:\n",
    "    print(\"학점: A\")\n",
    "elif score >= 80:\n",
    "    print(\"학점: B\")\n",
    "elif score >= 70:\n",
    "    print(\"학점: C\")\n",
    "elif score >= 60:\n",
    "    print(\"학점: D\")\n",
    "else:\n",
    "    print(\"학점: F\")"
   ]
  },
  {
   "cell_type": "code",
   "execution_count": null,
   "metadata": {},
   "outputs": [
    {
     "name": "stdout",
     "output_type": "stream",
     "text": [
      "일반인\n"
     ]
    }
   ],
   "source": [
    "#P180\n",
    "\n",
    "score = float(input(\"학점 입력> \"))\n",
    "\n",
    "if score == 4.5: \n",
    "    print(\"신\")\n",
    "\n",
    "elif  4.2 <= score < 4.5: \n",
    "    print(\"교수님의\")\n",
    "elif  3.5 <= score < 4.2: \n",
    "    print(\"수호자\")\n",
    "elif  2.8 <= score < 3.5: \n",
    "    print(\"일반인\")\n",
    "elif  2.3 <= score < 2.8: \n",
    "    print(\"소시민\")\n",
    "elif  1.75 <= score < 2.3: \n",
    "    print(\"선구자\")\n",
    "elif  1.0 <= score < 1.75: \n",
    "    print(\"천민\")\n",
    "elif  0.5 <= score < 1.0: \n",
    "    print(\"자벌레\")\n",
    "elif  0 <= score < 0.5: \n",
    "    print(\"플랑크톤\")\n",
    "elif score == 0: \n",
    "    print(\"혁명의씨앗\")"
   ]
  },
  {
   "cell_type": "code",
   "execution_count": null,
   "metadata": {},
   "outputs": [
    {
     "name": "stdout",
     "output_type": "stream",
     "text": [
      "# 리스트 뒤에 요소 추가\n",
      "[1, 2, 3, 4, 5]\n",
      "\n",
      "# 리스트 중간에 요소 추가\n",
      "[10, 1, 2, 3, 4, 5]\n"
     ]
    }
   ],
   "source": [
    "#P198 리스트에 요소 추가하기기\n",
    "\n",
    "list_a = [1,2,3]\n",
    "\n",
    "print(\"# 리스트 뒤에 요소 추가\")\n",
    "\n",
    "list_a.append(4)\n",
    "list_a.append(5)\n",
    "\n",
    "print(list_a)\n",
    "print()\n",
    "\n",
    "print(\"# 리스트 중간에 요소 추가\")\n",
    "list_a.insert(0, 10)\n",
    "print(list_a)"
   ]
  },
  {
   "cell_type": "code",
   "execution_count": null,
   "metadata": {},
   "outputs": [],
   "source": []
  }
 ],
 "metadata": {
  "kernelspec": {
   "display_name": "Python 3",
   "language": "python",
   "name": "python3"
  },
  "language_info": {
   "codemirror_mode": {
    "name": "ipython",
    "version": 3
   },
   "file_extension": ".py",
   "mimetype": "text/x-python",
   "name": "python",
   "nbconvert_exporter": "python",
   "pygments_lexer": "ipython3",
   "version": "3.11.9"
  }
 },
 "nbformat": 4,
 "nbformat_minor": 2
}
