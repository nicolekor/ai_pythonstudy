{
 "cells": [
  {
   "cell_type": "code",
   "execution_count": 1,
   "metadata": {},
   "outputs": [
    {
     "name": "stdout",
     "output_type": "stream",
     "text": [
      "0번째 반복입니다\n",
      "1번째 반복입니다\n",
      "2번째 반복입니다\n",
      "3번째 반복입니다\n",
      "4번째 반복입니다\n",
      "5번째 반복입니다\n",
      "6번째 반복입니다\n",
      "7번째 반복입니다\n",
      "8번째 반복입니다\n",
      "9번째 반복입니다\n"
     ]
    }
   ],
   "source": [
    "i = 0\n",
    "while i < 10:\n",
    "    print(\"{}번째 반복입니다\".format(i))\n",
    "    i += 1"
   ]
  },
  {
   "cell_type": "code",
   "execution_count": null,
   "metadata": {},
   "outputs": [
    {
     "name": "stdout",
     "output_type": "stream",
     "text": [
      "0번째 반복입니다\n",
      "1번째 반복입니다\n",
      "2번째 반복입니다\n",
      "3번째 반복입니다\n",
      "4번째 반복입니다\n",
      "5번째 반복입니다\n",
      "6번째 반복입니다\n",
      "7번째 반복입니다\n",
      "8번째 반복입니다\n",
      "9번째 반복입니다\n",
      "10번째 반복입니다\n",
      "11번째 반복입니다\n",
      "12번째 반복입니다\n",
      "--------------------------\n",
      "2번까지만 출력\n"
     ]
    }
   ],
   "source": [
    "i = 0\n",
    "while True:  #무한루트 꼭 if 를 같이 써야 함\n",
    "    print(\"{}번째 반복입니다\".format(i))\n",
    "    i += 1\n",
    "    \n",
    "    if i == 13:\n",
    "        print(\"--------------------------\")\n",
    "        print(\"2번까지만 출력\")\n",
    "        break;\n",
    "    "
   ]
  },
  {
   "cell_type": "code",
   "execution_count": 4,
   "metadata": {},
   "outputs": [
    {
     "name": "stdout",
     "output_type": "stream",
     "text": [
      "[1, 1]\n"
     ]
    }
   ],
   "source": [
    "#P242\n",
    "\n",
    "list_test = [1,2,1,2]\n",
    "value = 2\n",
    "\n",
    "while value in list_test:\n",
    "    list_test.remove(value)\n",
    "    \n",
    "\n",
    "print(list_test)"
   ]
  },
  {
   "cell_type": "code",
   "execution_count": 5,
   "metadata": {},
   "outputs": [
    {
     "name": "stdout",
     "output_type": "stream",
     "text": [
      "5초 동안 42500874번 반복했습니다\n"
     ]
    }
   ],
   "source": [
    "#P243\n",
    "\n",
    "import time\n",
    "\n",
    "number = 0\n",
    "\n",
    "target_tick = time.time() + 5\n",
    "while time.time() < target_tick:\n",
    "    number += 1\n",
    "    \n",
    "print(\"5초 동안 {}번 반복했습니다\".format(number))"
   ]
  },
  {
   "cell_type": "code",
   "execution_count": 9,
   "metadata": {},
   "outputs": [
    {
     "name": "stdout",
     "output_type": "stream",
     "text": [
      "15\n",
      "20\n",
      "25\n"
     ]
    }
   ],
   "source": [
    "#P245\n",
    "\n",
    "numbers = [5, 15, 6, 20, 7, 25]\n",
    "\n",
    "for number in numbers:\n",
    "    if number < 10:\n",
    "        continue\n",
    "    \n",
    "    print(number)"
   ]
  },
  {
   "cell_type": "code",
   "execution_count": 10,
   "metadata": {},
   "outputs": [
    {
     "name": "stdout",
     "output_type": "stream",
     "text": [
      "# reversed() 함수\n",
      "reversed([1,2,3,4,5]): <list_reverseiterator object at 0x0000020112A7E200>\n",
      "list(reversed([1,2,3,4,5])): [5, 4, 3, 2, 1]\n",
      "\n",
      "# reversed() 함수와 반복문\n",
      "for i in revered([1,2,3,4,5]):\n",
      "- 5\n",
      "- 4\n",
      "- 3\n",
      "- 2\n",
      "- 1\n"
     ]
    }
   ],
   "source": [
    "#P252\n",
    "\n",
    "list_a = [1,2,3,4,5]\n",
    "list_revesed = reversed(list_a)\n",
    "\n",
    "print(\"# reversed() 함수\")\n",
    "print(\"reversed([1,2,3,4,5]):\", list_revesed)\n",
    "print(\"list(reversed([1,2,3,4,5])):\", list(list_revesed))\n",
    "print()\n",
    "\n",
    "print(\"# reversed() 함수와 반복문\")\n",
    "print(\"for i in revered([1,2,3,4,5]):\")\n",
    "for i in reversed(list_a):\n",
    "    print(\"-\", i)"
   ]
  },
  {
   "cell_type": "code",
   "execution_count": 17,
   "metadata": {},
   "outputs": [
    {
     "name": "stdout",
     "output_type": "stream",
     "text": [
      "안녕 \n",
      "안녕 멜론 \n",
      "안녕 멜론 \n",
      "안녕 멜론 My-SQL \n",
      "안녕 멜론 My-SQL \n",
      "안녕 멜론 My-SQL \n"
     ]
    }
   ],
   "source": [
    "#P278\n",
    "\n",
    "def print_n_times(n, *values):\n",
    "    \n",
    "    for i in range(n):\n",
    "        for value in values:\n",
    "            print(value, end = \" \")\n",
    "            \n",
    "        print()\n",
    "        \n",
    "print_n_times(1, \"안녕\")\n",
    "print_n_times(2, \"안녕\", \"멜론\")\n",
    "print_n_times(3, \"안녕\", \"멜론\", \"My-SQL\")\n",
    "\n"
   ]
  },
  {
   "cell_type": "code",
   "execution_count": 28,
   "metadata": {},
   "outputs": [
    {
     "name": "stdout",
     "output_type": "stream",
     "text": [
      "안녕 \n",
      "안녕 파이썬 \n",
      "안녕 파이썬 \n",
      "안녕 파이썬 My-SQL \n",
      "안녕 파이썬 My-SQL \n",
      "안녕 파이썬 My-SQL \n"
     ]
    }
   ],
   "source": [
    "def print_n_times(*values, n=2):\n",
    "    \n",
    "    for i in range(n):\n",
    "        for value in values:\n",
    "            print(value, end = \" \")\n",
    "            \n",
    "        print()\n",
    "        \n",
    "print_n_times(\"안녕\", n=1)\n",
    "print_n_times(\"안녕\", \"파이썬\")\n",
    "print_n_times(\"안녕\", \"파이썬\", \"My-SQL\", n=3)\n"
   ]
  },
  {
   "cell_type": "code",
   "execution_count": 1,
   "metadata": {},
   "outputs": [
    {
     "name": "stdout",
     "output_type": "stream",
     "text": [
      "12\n"
     ]
    }
   ],
   "source": [
    "a = 5\n",
    "b = 7\n",
    "print(a+b)"
   ]
  }
 ],
 "metadata": {
  "kernelspec": {
   "display_name": "Python 3",
   "language": "python",
   "name": "python3"
  },
  "language_info": {
   "codemirror_mode": {
    "name": "ipython",
    "version": 3
   },
   "file_extension": ".py",
   "mimetype": "text/x-python",
   "name": "python",
   "nbconvert_exporter": "python",
   "pygments_lexer": "ipython3",
   "version": "3.11.9"
  }
 },
 "nbformat": 4,
 "nbformat_minor": 2
}
